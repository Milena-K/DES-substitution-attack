{
 "cells": [
  {
   "cell_type": "markdown",
   "id": "ee3e05c9-a909-40a6-a16c-929da115b846",
   "metadata": {},
   "source": [
    "# Домашна задача 3 - Имплементација на ECB и CBC модови и „Исечи па залепи“ напад кај двата мода. \n",
    "Милена Кукољ 186085 "
   ]
  },
  {
   "cell_type": "markdown",
   "id": "e940a4ea-5220-4ce9-ab2f-69f3b6b84e8b",
   "metadata": {},
   "source": [
    "## Имплементација на ECB и CBC модовите"
   ]
  },
  {
   "cell_type": "code",
   "execution_count": 5,
   "id": "2178521e-aa89-4dac-bb83-9256b2874e93",
   "metadata": {},
   "outputs": [],
   "source": [
    "from des import DesKey"
   ]
  },
  {
   "cell_type": "raw",
   "id": "ba426542-16da-46a5-9ee2-e7e61ee9a8b2",
   "metadata": {},
   "source": [
    "Библиотеката што ја користам веќе има имплементирано CBC i ECB модови. Јас само би ги објаснила подетално. "
   ]
  },
  {
   "cell_type": "code",
   "execution_count": 6,
   "id": "34b7e80b-0220-4f0c-998a-91608bf93e7c",
   "metadata": {},
   "outputs": [],
   "source": [
    "key0 = DesKey(b\"some key\")                  # for DES\n"
   ]
  },
  {
   "cell_type": "markdown",
   "id": "f354ef93-896a-4deb-8ae1-34765f53a23c",
   "metadata": {},
   "source": [
    "Во оваа библиотека има една класа DesKey. Откако ќе се креира клучот, кој мора да биде во бајти и со должина од 8, 16 или 24 бајти. Од должината на клучот зависи и кој алгоритам ќе се користи понатаму. Доколку е 16 или 24 бајти, се користи 3DES алгоритамот. Кој алгоритам е искористен можеме да провериме со методот *is_single*."
   ]
  },
  {
   "cell_type": "code",
   "execution_count": 7,
   "id": "5da73541-f309-4f4d-baab-62a37769af33",
   "metadata": {},
   "outputs": [
    {
     "data": {
      "text/plain": [
       "True"
      ]
     },
     "execution_count": 7,
     "metadata": {},
     "output_type": "execute_result"
    }
   ],
   "source": [
    "key0.is_single() "
   ]
  },
  {
   "cell_type": "code",
   "execution_count": 10,
   "id": "1d3a9c5d-8b85-4e04-ab50-55856752180f",
   "metadata": {},
   "outputs": [
    {
     "data": {
      "text/plain": [
       "b\"\\x14\\xfa\\xc2 '\\x00{\\xa9\\xdc;\\x9dq\\xcbr\\x87Q\""
      ]
     },
     "execution_count": 10,
     "metadata": {},
     "output_type": "execute_result"
    }
   ],
   "source": [
    "key0.encrypt(b\"any long message\") "
   ]
  },
  {
   "cell_type": "markdown",
   "id": "2b964d84-e1d9-4175-8b16-94ef70e89cf5",
   "metadata": {},
   "source": [
    "Ако во методот за енкриптирање на порака не внесеме вредост за иницијалниот вектор, ќе се употреби модот CBC, како на примерот погоре. Во спротивно, ќе се употреби ECB модот на енкрипција. "
   ]
  },
  {
   "cell_type": "code",
   "execution_count": 11,
   "id": "26fe90de-142f-4cb3-93e1-5633b615ee16",
   "metadata": {},
   "outputs": [
    {
     "data": {
      "text/plain": [
       "b\"\\x14\\xfa\\xc2 '\\x00{\\xa9\\xb2\\xa5\\xa7\\xfb#\\x86\\xc5\\x9b\""
      ]
     },
     "execution_count": 11,
     "metadata": {},
     "output_type": "execute_result"
    }
   ],
   "source": [
    "key0.encrypt(b\"any long message\", initial=0) "
   ]
  },
  {
   "cell_type": "markdown",
   "id": "75b8ae42-7531-40c5-bc34-8cae5e275295",
   "metadata": {},
   "source": [
    "Оваа имплементација има и опција за додавање на дополнителни битови на крај од пораката доколку е со должина на бајти која не е делива со 8."
   ]
  },
  {
   "cell_type": "code",
   "execution_count": 14,
   "id": "126734d1-6124-4122-b1f2-cdd0555f9644",
   "metadata": {},
   "outputs": [
    {
     "data": {
      "text/plain": [
       "b'%\\xd1KU\\x8b_A\\xa6'"
      ]
     },
     "execution_count": 14,
     "metadata": {},
     "output_type": "execute_result"
    }
   ],
   "source": [
    "key0.encrypt(b\"abc\", padding=True) "
   ]
  },
  {
   "cell_type": "code",
   "execution_count": 15,
   "id": "9dd9513a-e176-4df5-a26a-3fb6383cb2bb",
   "metadata": {},
   "outputs": [
    {
     "data": {
      "text/plain": [
       "b'abc'"
      ]
     },
     "execution_count": 15,
     "metadata": {},
     "output_type": "execute_result"
    }
   ],
   "source": [
    "key0.decrypt(b\"%\\xd1KU\\x8b_A\\xa6\", padding=True) "
   ]
  },
  {
   "cell_type": "markdown",
   "id": "aa0bd873-f459-43aa-a74f-4b8b2b9057d1",
   "metadata": {},
   "source": [
    "Откако ќе се повика методот *encrypt* тој ја повикува функцијата *handle* каде се одредува и кој метод ќе се користи за енкрипцијата, според вредноста на променливата *initial*. "
   ]
  },
  {
   "cell_type": "code",
   "execution_count": 8,
   "id": "4a5fac45-4395-4da2-bec9-8e1e854188e5",
   "metadata": {},
   "outputs": [],
   "source": [
    "def handle(message, key, initial, padding, encryption):\n",
    "    message = guard_message(message, padding, encryption)\n",
    "    initial = guard_initial(initial)\n",
    "\n",
    "    blocks = (struct.unpack(\">Q\", message[i: i + 8])[0] for i in iter_range(0, len(message), 8))\n",
    "\n",
    "    if initial is None:\n",
    "        # ECB\n",
    "        encoded_blocks = ecb(blocks, key, encryption)\n",
    "    else:\n",
    "        # CBC\n",
    "        encoded_blocks = cbc(blocks, key, initial, encryption)\n",
    "\n",
    "    ret = b\"\".join(struct.pack(\">Q\", block) for block in encoded_blocks)\n",
    "    return ret[:-ord(ret[-1:])] if not encryption and padding else ret"
   ]
  },
  {
   "cell_type": "markdown",
   "id": "a73d3927-7c98-45d8-8cce-4e3478a2f2eb",
   "metadata": {},
   "source": [
    "### ECB"
   ]
  },
  {
   "cell_type": "code",
   "execution_count": 1,
   "id": "5e8323f5-d82f-4f80-80ca-deae6524984e",
   "metadata": {},
   "outputs": [],
   "source": [
    "def ecb(blocks, key, encryption):\n",
    "    for block in blocks:\n",
    "        yield encode(block, key, encryption)"
   ]
  },
  {
   "cell_type": "code",
   "execution_count": 2,
   "id": "ed015895-bd57-4d2c-894f-7575be5d9adb",
   "metadata": {},
   "outputs": [],
   "source": [
    "def encode(block, key, encryption):\n",
    "    for k in key:\n",
    "        block = encode_block(block, k, encryption)\n",
    "        encryption = not encryption\n",
    "\n",
    "    return block"
   ]
  },
  {
   "cell_type": "code",
   "execution_count": 3,
   "id": "a873fa50-9961-408e-82be-6a64b324e6a8",
   "metadata": {},
   "outputs": [],
   "source": [
    "def encode_block(block, derived_keys, encryption):\n",
    "    block = permute(block, 64, INITIAL_PERMUTATION)\n",
    "    block = block >> 32, block & 0xffffffff\n",
    "\n",
    "    if not encryption:\n",
    "        derived_keys = reversed(derived_keys)\n",
    "    for key in derived_keys:\n",
    "        block = block[1], block[0] ^ f(block[1], key)\n",
    "\n",
    "    return permute(block[1] << 32 | block[0], 64, INVERSE_PERMUTATION)"
   ]
  },
  {
   "cell_type": "markdown",
   "id": "37c39721-3c9b-428f-9692-cc1cdfeab9d7",
   "metadata": {},
   "source": [
    "### CBC"
   ]
  },
  {
   "cell_type": "code",
   "execution_count": 4,
   "id": "fa774bea-ca2a-40fd-ba90-e063e716aaf4",
   "metadata": {},
   "outputs": [],
   "source": [
    "def cbc(blocks, key, initial, encryption):\n",
    "    if encryption:\n",
    "        for block in blocks:\n",
    "            initial = encode(block ^ initial, key, encryption)\n",
    "            yield initial\n",
    "    else:\n",
    "        for block in blocks:\n",
    "            initial, block = block, initial ^ encode(block, key, encryption)\n",
    "            yield block"
   ]
  },
  {
   "cell_type": "markdown",
   "id": "5d58cf35-9f11-4522-ac69-a864082caaae",
   "metadata": {},
   "source": [
    "Всушност главната разлика во модовите на екрипција е дека во CBC блокот вредноста што се праќа на методот *encode* е резултатот од XOR операцијата на моменталниот блок и променливата *initial*. Променливата *initial* првично ја има вредноста на иницијалниот вектор, но потоа и ја доделуваме вредноста од енкриптираниот блок."
   ]
  },
  {
   "cell_type": "markdown",
   "id": "364225a1-4720-4148-b89b-8c0380e86b79",
   "metadata": {},
   "source": [
    "## „Исечи па залепи“ напад кај двата мода. "
   ]
  },
  {
   "cell_type": "code",
   "execution_count": null,
   "id": "8cae3a8d-bf58-4e53-b833-5cd0c5d7ba06",
   "metadata": {},
   "outputs": [],
   "source": []
  }
 ],
 "metadata": {
  "kernelspec": {
   "display_name": "venv",
   "language": "python",
   "name": "venv"
  },
  "language_info": {
   "codemirror_mode": {
    "name": "ipython",
    "version": 3
   },
   "file_extension": ".py",
   "mimetype": "text/x-python",
   "name": "python",
   "nbconvert_exporter": "python",
   "pygments_lexer": "ipython3",
   "version": "3.12.9"
  }
 },
 "nbformat": 4,
 "nbformat_minor": 5
}
