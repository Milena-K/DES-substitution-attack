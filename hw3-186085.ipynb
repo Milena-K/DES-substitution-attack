{
 "cells": [
  {
   "cell_type": "markdown",
   "id": "ee3e05c9-a909-40a6-a16c-929da115b846",
   "metadata": {},
   "source": [
    "# Домашна задача 3 - Имплементација на ECB и CBC модови и „Исечи па залепи“ напад кај двата мода. \n",
    "Милена Кукољ 186085 "
   ]
  },
  {
   "cell_type": "markdown",
   "id": "e940a4ea-5220-4ce9-ab2f-69f3b6b84e8b",
   "metadata": {},
   "source": [
    "## Имплементација на ECB и CBC модовите"
   ]
  },
  {
   "cell_type": "code",
   "execution_count": 1,
   "id": "2178521e-aa89-4dac-bb83-9256b2874e93",
   "metadata": {},
   "outputs": [],
   "source": [
    "from des import DesKey"
   ]
  },
  {
   "cell_type": "raw",
   "id": "ba426542-16da-46a5-9ee2-e7e61ee9a8b2",
   "metadata": {},
   "source": [
    "Библиотеката што ја користам веќе има имплементирано CBC i ECB модови. Јас само би ги објаснила подетално. "
   ]
  },
  {
   "cell_type": "code",
   "execution_count": 2,
   "id": "34b7e80b-0220-4f0c-998a-91608bf93e7c",
   "metadata": {},
   "outputs": [],
   "source": [
    "key0 = DesKey(b\"some key\")                  # for DES"
   ]
  },
  {
   "cell_type": "markdown",
   "id": "f354ef93-896a-4deb-8ae1-34765f53a23c",
   "metadata": {},
   "source": [
    "Во оваа библиотека има една класа DesKey. Откако ќе се креира клучот, кој мора да биде во бајти и со должина од 8, 16 или 24 бајти. Од должината на клучот зависи и кој алгоритам ќе се користи понатаму. Доколку е 16 или 24 бајти, се користи 3DES алгоритамот. Кој алгоритам е искористен можеме да провериме со методот *is_single*."
   ]
  },
  {
   "cell_type": "code",
   "execution_count": 3,
   "id": "5da73541-f309-4f4d-baab-62a37769af33",
   "metadata": {},
   "outputs": [
    {
     "data": {
      "text/plain": [
       "True"
      ]
     },
     "execution_count": 3,
     "metadata": {},
     "output_type": "execute_result"
    }
   ],
   "source": [
    "key0.is_single() "
   ]
  },
  {
   "cell_type": "code",
   "execution_count": 4,
   "id": "1d3a9c5d-8b85-4e04-ab50-55856752180f",
   "metadata": {},
   "outputs": [
    {
     "data": {
      "text/plain": [
       "b\"\\x14\\xfa\\xc2 '\\x00{\\xa9\\xdc;\\x9dq\\xcbr\\x87Q\""
      ]
     },
     "execution_count": 4,
     "metadata": {},
     "output_type": "execute_result"
    }
   ],
   "source": [
    "key0.encrypt(b\"any long message\") "
   ]
  },
  {
   "cell_type": "markdown",
   "id": "2b964d84-e1d9-4175-8b16-94ef70e89cf5",
   "metadata": {},
   "source": [
    "Ако во методот за енкриптирање на порака не внесеме вредост за иницијалниот вектор, ќе се употреби модот CBC, како на примерот погоре. Во спротивно, ќе се употреби ECB модот на енкрипција. "
   ]
  },
  {
   "cell_type": "code",
   "execution_count": 5,
   "id": "26fe90de-142f-4cb3-93e1-5633b615ee16",
   "metadata": {},
   "outputs": [
    {
     "data": {
      "text/plain": [
       "b\"\\x14\\xfa\\xc2 '\\x00{\\xa9\\xb2\\xa5\\xa7\\xfb#\\x86\\xc5\\x9b\""
      ]
     },
     "execution_count": 5,
     "metadata": {},
     "output_type": "execute_result"
    }
   ],
   "source": [
    "key0.encrypt(b\"any long message\", initial=0) "
   ]
  },
  {
   "cell_type": "markdown",
   "id": "75b8ae42-7531-40c5-bc34-8cae5e275295",
   "metadata": {},
   "source": [
    "Оваа имплементација има и опција за додавање на дополнителни битови на крај од пораката доколку е со должина на бајти која не е делива со 8."
   ]
  },
  {
   "cell_type": "code",
   "execution_count": 6,
   "id": "126734d1-6124-4122-b1f2-cdd0555f9644",
   "metadata": {},
   "outputs": [
    {
     "data": {
      "text/plain": [
       "b'%\\xd1KU\\x8b_A\\xa6'"
      ]
     },
     "execution_count": 6,
     "metadata": {},
     "output_type": "execute_result"
    }
   ],
   "source": [
    "key0.encrypt(b\"abc\", padding=True) "
   ]
  },
  {
   "cell_type": "code",
   "execution_count": 7,
   "id": "9dd9513a-e176-4df5-a26a-3fb6383cb2bb",
   "metadata": {},
   "outputs": [
    {
     "data": {
      "text/plain": [
       "b'abc'"
      ]
     },
     "execution_count": 7,
     "metadata": {},
     "output_type": "execute_result"
    }
   ],
   "source": [
    "key0.decrypt(b\"%\\xd1KU\\x8b_A\\xa6\", padding=True) "
   ]
  },
  {
   "cell_type": "markdown",
   "id": "aa0bd873-f459-43aa-a74f-4b8b2b9057d1",
   "metadata": {},
   "source": [
    "Откако ќе се повика методот *encrypt* тој ја повикува функцијата *handle* каде се одредува и кој метод ќе се користи за енкрипцијата, според вредноста на променливата *initial*. "
   ]
  },
  {
   "cell_type": "code",
   "execution_count": 8,
   "id": "4a5fac45-4395-4da2-bec9-8e1e854188e5",
   "metadata": {},
   "outputs": [],
   "source": [
    "def handle(message, key, initial, padding, encryption):\n",
    "    message = guard_message(message, padding, encryption)\n",
    "    initial = guard_initial(initial)\n",
    "\n",
    "    blocks = (struct.unpack(\">Q\", message[i: i + 8])[0] for i in iter_range(0, len(message), 8))\n",
    "\n",
    "    if initial is None:\n",
    "        # ECB\n",
    "        encoded_blocks = ecb(blocks, key, encryption)\n",
    "    else:\n",
    "        # CBC\n",
    "        encoded_blocks = cbc(blocks, key, initial, encryption)\n",
    "\n",
    "    ret = b\"\".join(struct.pack(\">Q\", block) for block in encoded_blocks)\n",
    "    return ret[:-ord(ret[-1:])] if not encryption and padding else ret"
   ]
  },
  {
   "cell_type": "markdown",
   "id": "a73d3927-7c98-45d8-8cce-4e3478a2f2eb",
   "metadata": {},
   "source": [
    "### ECB"
   ]
  },
  {
   "cell_type": "code",
   "execution_count": 9,
   "id": "5e8323f5-d82f-4f80-80ca-deae6524984e",
   "metadata": {},
   "outputs": [],
   "source": [
    "def ecb(blocks, key, encryption):\n",
    "    for block in blocks:\n",
    "        yield encode(block, key, encryption)"
   ]
  },
  {
   "cell_type": "code",
   "execution_count": 13,
   "id": "ed015895-bd57-4d2c-894f-7575be5d9adb",
   "metadata": {},
   "outputs": [],
   "source": [
    "def encode(block, key, encryption):\n",
    "    for k in key:\n",
    "        block = encode_block(block, k, encryption)\n",
    "        encryption = not encryption # important for longer keys 3DES\n",
    "\n",
    "    return block"
   ]
  },
  {
   "cell_type": "code",
   "execution_count": 11,
   "id": "a873fa50-9961-408e-82be-6a64b324e6a8",
   "metadata": {},
   "outputs": [],
   "source": [
    "def encode_block(block, derived_keys, encryption):\n",
    "    block = permute(block, 64, INITIAL_PERMUTATION)\n",
    "    block = block >> 32, block & 0xffffffff\n",
    "\n",
    "    if not encryption:\n",
    "        derived_keys = reversed(derived_keys)\n",
    "    for key in derived_keys:\n",
    "        block = block[1], block[0] ^ f(block[1], key)\n",
    "\n",
    "    return permute(block[1] << 32 | block[0], 64, INVERSE_PERMUTATION)"
   ]
  },
  {
   "cell_type": "markdown",
   "id": "37c39721-3c9b-428f-9692-cc1cdfeab9d7",
   "metadata": {},
   "source": [
    "### CBC"
   ]
  },
  {
   "cell_type": "code",
   "execution_count": 12,
   "id": "fa774bea-ca2a-40fd-ba90-e063e716aaf4",
   "metadata": {},
   "outputs": [],
   "source": [
    "def cbc(blocks, key, initial, encryption):\n",
    "    if encryption:\n",
    "        for block in blocks:\n",
    "            initial = encode(block ^ initial, key, encryption)\n",
    "            yield initial\n",
    "    else:\n",
    "        for block in blocks:\n",
    "            initial, block = block, initial ^ encode(block, key, encryption)\n",
    "            yield block"
   ]
  },
  {
   "cell_type": "markdown",
   "id": "5d58cf35-9f11-4522-ac69-a864082caaae",
   "metadata": {},
   "source": [
    "Всушност главната разлика во модовите на екрипција е дека во CBC блокот вредноста што се праќа на методот *encode* е резултатот од XOR операцијата на моменталниот блок и променливата *initial*. Променливата *initial* првично ја има вредноста на иницијалниот вектор, но потоа и ја доделуваме вредноста од енкриптираниот блок.\n",
    "\n",
    "При декрипција на првиот блок, се доделува резултатот од XOR операцијата на иницијалниот вектор и декриптираниот блок на променливата *block*, додека на *initial* променливата и се доделува енкриптираниот блок. На овој начин се продолжува за секој од блоковите."
   ]
  },
  {
   "cell_type": "markdown",
   "id": "364225a1-4720-4148-b89b-8c0380e86b79",
   "metadata": {},
   "source": [
    "## „Исечи па залепи“ напад кај двата мода. "
   ]
  },
  {
   "cell_type": "code",
   "execution_count": 14,
   "id": "8cae3a8d-bf58-4e53-b833-5cd0c5d7ba06",
   "metadata": {},
   "outputs": [],
   "source": [
    "def print_results(plain_text, swap_text, delete_text):\n",
    "    print(\"====================\")\n",
    "    print(\"Plain text:\")\n",
    "    print(\"====================\")\n",
    "    print(bank_transfer)\n",
    "    print(\"====================\")\n",
    "    print(\"Change decrypted message:\")\n",
    "    print(\"====================\")\n",
    "    print(plain_text_ecb_swap.decode())\n",
    "    print(\"====================\")\n",
    "    print(\"Delete decrypted message:\")\n",
    "    print(\"====================\")\n",
    "    print(plain_text_ecb_delete)"
   ]
  },
  {
   "cell_type": "code",
   "execution_count": 19,
   "id": "50195c99-8d2c-443a-bb94-df644f6096dc",
   "metadata": {},
   "outputs": [],
   "source": [
    "# the fields in the bank transfer are 8 bytes long\n",
    "# 0. sending bank's ID,\n",
    "# 1. account number at sending bank,\n",
    "# 2. receiving bank's ID,\n",
    "# 3. account number at receiving bank,\n",
    "# 4. amount transferred\n",
    "bank_transfer = b\"BANK1234ACCT5678BANK5678ACCT123400010000\""
   ]
  },
  {
   "cell_type": "markdown",
   "id": "a70733bb-d741-4aa7-bff1-0bad720b8230",
   "metadata": {},
   "source": [
    "### ECB мод"
   ]
  },
  {
   "cell_type": "code",
   "execution_count": 15,
   "id": "49aaa8f6-aeb4-40f0-a820-724490b5a964",
   "metadata": {},
   "outputs": [],
   "source": [
    "def substitution_ecb(message, change_blocks=[], delete_blocks=[]):\n",
    "    message = bytearray(message)\n",
    "\n",
    "    if len(delete_blocks) > 0:\n",
    "        for delete in delete_blocks:\n",
    "            message.pop(delete)\n",
    "\n",
    "    for ((a, b), (c, d)) in change_blocks:\n",
    "        message[a:b], message[c:d] = message[c:d], message[a:b]\n",
    "\n",
    "    return bytes(message)"
   ]
  },
  {
   "cell_type": "markdown",
   "id": "e1de6c88-bfc0-4858-aaf3-d81dde4c9fce",
   "metadata": {},
   "source": [
    "Оваа функција едноставно само им ги заменува местата на блоковите, или ги брише целосно од поракта."
   ]
  },
  {
   "cell_type": "code",
   "execution_count": 20,
   "id": "729cd37b-4474-4cbc-90d4-159877211175",
   "metadata": {},
   "outputs": [
    {
     "name": "stdout",
     "output_type": "stream",
     "text": [
      "====================\n",
      "Plain text:\n",
      "====================\n",
      "b'BANK1234ACCT5678BANK5678ACCT123400010000'\n",
      "====================\n",
      "Change decrypted message:\n",
      "====================\n",
      "ACCT5678BANK1234BANK5678ACCT123400010000\n",
      "====================\n",
      "Delete decrypted message:\n",
      "====================\n",
      "b'\\xd4m\\xea^\\x8b\\xf9\\xcc\\rBANK5678ACCT123400010000'\n"
     ]
    }
   ],
   "source": [
    "encrypted_ecb = key0.encrypt(bank_transfer)\n",
    "\n",
    "swap_message_ecb = substitution_ecb(encrypted_ecb, change_blocks=[((0,8), (8,16))])\n",
    "plain_text_ecb_swap = key0.decrypt(swap_message_ecb)\n",
    "\n",
    "delete_message_ecb = substitution_ecb(encrypted_ecb, delete_blocks=[0,1,2,4,5,6,7,8])\n",
    "plain_text_ecb_delete = key0.decrypt(delete_message_ecb)\n",
    "\n",
    "print_results(bank_transfer, plain_text_ecb_swap, plain_text_ecb_delete)"
   ]
  },
  {
   "cell_type": "markdown",
   "id": "1e1f5d7c-a219-47de-a44a-8fa4bb5fe282",
   "metadata": {},
   "source": [
    "### CBC мод"
   ]
  },
  {
   "cell_type": "code",
   "execution_count": 56,
   "id": "be1e3005-eebc-4ece-9efd-70302f3a5847",
   "metadata": {},
   "outputs": [],
   "source": [
    "def xor_bytes(a, b):\n",
    "    return bytes(x ^ y for x, y in zip(a, b))"
   ]
  },
  {
   "cell_type": "code",
   "execution_count": 96,
   "id": "6a74be58-4f8c-4b2a-ac0f-30f491d47d4b",
   "metadata": {},
   "outputs": [],
   "source": [
    "def substitution_cbc(original_message, modified_message=b\"\", change_block=1, delete_blocks=[]):\n",
    "    original_message = bytearray(original_message)\n",
    "    if len(delete_blocks) > 0:\n",
    "        for delete in delete_blocks:\n",
    "            original_message.pop(delete)\n",
    "        return bytes(original_message)\n",
    "    else:\n",
    "        if change_block == 0:\n",
    "            offset = change_block * 8\n",
    "            before_block = original_message[offset - 8: offset]\n",
    "            after_block = original_message[offset:]\n",
    "            # find what to change\n",
    "            xor_diff = xor_bytes(original_message, modified_message)\n",
    "            before_block = b\"\"\n",
    "            fake_iv = xor_bytes(b\"\\0\"*8, xor_diff)\n",
    "            plain_text_cbc_change = key0.decrypt(bytes(original_message), initial=fake_iv)\n",
    "        else:\n",
    "            offset = change_block * 8\n",
    "            before_block = original_message[offset - 8: offset]\n",
    "            after_block = original_message[offset:]\n",
    "            # find what to change\n",
    "            xor_diff = xor_bytes(original_message, modified_message)\n",
    "            # make the change in the previous block\n",
    "            modified_before_block = xor_bytes(before_block, xor_diff)\n",
    "            changed_message = bytes(original_message[:offset-8] + modified_before_block + after_block)\n",
    "            print(changed_message)\n",
    "            plain_text_cbc_change = key0.decrypt(changed_message, initial=0)\n",
    "        return plain_text_cbc_change"
   ]
  },
  {
   "cell_type": "markdown",
   "id": "2101c56a-12e2-41c5-b4d8-d8fa069e1d30",
   "metadata": {},
   "source": [
    "Оваа функција или брише дел од пораката, или го менува претходниот дел од блокот за да влијае при декрипција на следниот дел од блокот. Функцијата прима како параметри оригиналната енкриптирана порака што сме ја добиле, модифицираната порака и во кој блок сакаме да ја направи промената, и опционалниот параметар ** ако сакаме да избришеме дел од пораката."
   ]
  },
  {
   "cell_type": "code",
   "execution_count": 102,
   "id": "601ff73c-b36f-47ee-abf4-144dc4aae9be",
   "metadata": {},
   "outputs": [
    {
     "name": "stdout",
     "output_type": "stream",
     "text": [
      "b'\\x00\\x00\\x00\\x00\\x00\\x00\\x00\\x00\\x00\\x00\\x00\\x00\\x00\\x00\\x00\\x00\\x00\\x00\\x00\\x00\\x00\\x00\\x00\\x00\\x00\\x00\\x00\\x00\\x05\\x06\\x07\\x00\\x00\\x00\\x00\\x00\\x00\\x00\\x00\\x00'\n",
      "b'\\xe4\\x0c\\x89\\xechH7\\x061nA\\xf3IB\\xe3\\xd7+\\xcf\\xe7C\\xda\\xc6\\xb6O\\x82\\xee\\x19\\x94\\xcb\\xf6c\\x8a|\\x9e\\xb6\\xa5F\\xb8C\\x06'\n",
      "====================\n",
      "Plain text:\n",
      "====================\n",
      "b'BANK1234ACCT1234BANK5678ACCT123400010000'\n",
      "====================\n",
      "Change decrypted message:\n",
      "====================\n",
      "ACCT5678BANK1234BANK5678ACCT123400010000\n",
      "====================\n",
      "Delete decrypted message:\n",
      "====================\n",
      "b'\\xd4m\\xea^\\x8b\\xf9\\xcc\\rBANK5678ACCT123400010000'\n"
     ]
    }
   ],
   "source": [
    "bank_transfer     = b\"BANK1234ACCT1234BANK5678ACCT123400010000\"\n",
    "bank_transfer_mod = b\"BANK1234ACCT1234BANK5678ACCT444400010000\"\n",
    "print(xor_bytes(bank_transfer, bank_transfer_mod))\n",
    "\n",
    "encrypted_cbc = key0.encrypt(bank_transfer, initial=0)\n",
    "changed_encr_message_cbc = key0.encrypt(bank_transfer_mod, initial=0)\n",
    "\n",
    "plain_text_cbc_change = substitution_cbc(encrypted_cbc, changed_encr_message_cbc, change_block=3)\n",
    "\n",
    "delete_message_cbc = substitution_cbc(encrypted_cbc, delete_blocks=[0,1,2,4,5,6,7,8])\n",
    "plain_text_cbc_delete = key0.decrypt(delete_message_cbc, initial=0)\n",
    "\n",
    "print_results(bank_transfer, plain_text_cbc_change, plain_text_cbc_delete)"
   ]
  }
 ],
 "metadata": {
  "kernelspec": {
   "display_name": "venv",
   "language": "python",
   "name": "venv"
  },
  "language_info": {
   "codemirror_mode": {
    "name": "ipython",
    "version": 3
   },
   "file_extension": ".py",
   "mimetype": "text/x-python",
   "name": "python",
   "nbconvert_exporter": "python",
   "pygments_lexer": "ipython3",
   "version": "3.12.9"
  }
 },
 "nbformat": 4,
 "nbformat_minor": 5
}
